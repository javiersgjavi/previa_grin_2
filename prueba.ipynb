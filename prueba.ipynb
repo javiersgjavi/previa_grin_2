{
 "cells": [
  {
   "cell_type": "code",
   "execution_count": 1,
   "metadata": {
    "collapsed": true
   },
   "outputs": [],
   "source": [
    "import tsl\n",
    "import torch\n",
    "import numpy as np\n",
    "from electric_data import ElectricData\n",
    "import pandas as pd"
   ]
  },
  {
   "cell_type": "code",
   "execution_count": 2,
   "outputs": [
    {
     "data": {
      "text/plain": "array([[ True,  True,  True,  True,  True,  True],\n       [ True,  True,  True,  True,  True,  True],\n       [ True,  True,  True,  True,  True,  True],\n       ...,\n       [ True,  True,  True,  True,  True,  True],\n       [ True,  True,  True,  True,  True,  True],\n       [ True, False,  True,  True,  True,  True]])"
     },
     "execution_count": 2,
     "metadata": {},
     "output_type": "execute_result"
    }
   ],
   "source": [
    "data = pd.read_csv('./data/electric/normal_data.csv')\n",
    "imputation_mask = np.random.rand(*data.shape) > 0.1\n",
    "imputation_mask"
   ],
   "metadata": {
    "collapsed": false
   }
  },
  {
   "cell_type": "code",
   "execution_count": 3,
   "outputs": [],
   "source": [
    "data = ElectricData(mask=imputation_mask)"
   ],
   "metadata": {
    "collapsed": false
   }
  },
  {
   "cell_type": "code",
   "execution_count": 4,
   "outputs": [
    {
     "data": {
      "text/plain": "True"
     },
     "execution_count": 4,
     "metadata": {},
     "output_type": "execute_result"
    }
   ],
   "source": [
    "data.has_mask"
   ],
   "metadata": {
    "collapsed": false
   }
  },
  {
   "cell_type": "code",
   "execution_count": 5,
   "outputs": [
    {
     "data": {
      "text/plain": "{}"
     },
     "execution_count": 5,
     "metadata": {},
     "output_type": "execute_result"
    }
   ],
   "source": [
    "data.covariates"
   ],
   "metadata": {
    "collapsed": false
   }
  },
  {
   "cell_type": "code",
   "execution_count": 6,
   "outputs": [
    {
     "name": "stdout",
     "output_type": "stream",
     "text": [
      "{'pearson'}\n"
     ]
    }
   ],
   "source": [
    "print(data.similarity_score)"
   ],
   "metadata": {
    "collapsed": false
   }
  },
  {
   "cell_type": "code",
   "execution_count": 7,
   "outputs": [
    {
     "data": {
      "text/plain": "array([[ 1.        ,  0.62491763, -0.65651678, -0.51319127,  0.50083874,\n         0.08541757],\n       [ 0.62491763,  1.        , -0.08369033,  0.07618859,  0.6663897 ,\n         0.36590527],\n       [-0.65651678, -0.08369033,  1.        ,  0.87355349,  0.07062312,\n         0.03894102],\n       [-0.51319127,  0.07618859,  0.87355349,  1.        ,  0.05986351,\n        -0.15136584],\n       [ 0.50083874,  0.6663897 ,  0.07062312,  0.05986351,  1.        ,\n        -0.0631576 ],\n       [ 0.08541757,  0.36590527,  0.03894102, -0.15136584, -0.0631576 ,\n         1.        ]])"
     },
     "execution_count": 7,
     "metadata": {},
     "output_type": "execute_result"
    }
   ],
   "source": [
    "data.get_similarity('pearson')"
   ],
   "metadata": {
    "collapsed": false
   }
  },
  {
   "cell_type": "code",
   "execution_count": 8,
   "outputs": [],
   "source": [
    "adj = data.get_connectivity(method='pearson')"
   ],
   "metadata": {
    "collapsed": false
   }
  },
  {
   "cell_type": "code",
   "execution_count": 9,
   "outputs": [],
   "source": [
    "target, idx = data.numpy(return_idx=True)"
   ],
   "metadata": {
    "collapsed": false
   }
  },
  {
   "cell_type": "code",
   "execution_count": 10,
   "outputs": [],
   "source": [
    "from tsl.data import ImputationDataset"
   ],
   "metadata": {
    "collapsed": false
   }
  },
  {
   "cell_type": "code",
   "execution_count": 11,
   "outputs": [],
   "source": [
    "torch_dataset = ImputationDataset(\n",
    "    target=target,\n",
    "    index=idx,\n",
    "    connectivity=adj,\n",
    "    input_mask=data.mask,\n",
    "    eval_mask=data.mask,\n",
    "    window=24,\n",
    "    stride=1)"
   ],
   "metadata": {
    "collapsed": false
   }
  },
  {
   "cell_type": "code",
   "execution_count": 12,
   "outputs": [
    {
     "name": "stdout",
     "output_type": "stream",
     "text": [
      "SpatioTemporalDataModule(train_len=None, val_len=None, test_len=None, scalers=[target], batch_size=64)\n",
      "SpatioTemporalDataModule(train_len=1550, val_len=150, test_len=437, scalers=[target], batch_size=64)\n"
     ]
    }
   ],
   "source": [
    "from tsl.data import SpatioTemporalDataModule\n",
    "from tsl.data.preprocessing import StandardScaler, MinMaxScaler\n",
    "\n",
    "scalers = {'target': MinMaxScaler(axis=(0,1))}\n",
    "\n",
    "splitter = data.get_splitter(val_len=0.1, test_len=0.2)\n",
    "\n",
    "dm = SpatioTemporalDataModule(\n",
    "    dataset=torch_dataset,\n",
    "    scalers=scalers,\n",
    "    splitter=splitter,\n",
    "    batch_size=64,\n",
    "    workers=0)\n",
    "print(dm)\n",
    "\n",
    "dm.setup()\n",
    "print(dm)"
   ],
   "metadata": {
    "collapsed": false
   }
  },
  {
   "cell_type": "code",
   "execution_count": 13,
   "outputs": [],
   "source": [
    "from tsl.metrics.torch import MaskedMAE, MaskedMAPE\n",
    "from tsl.engines import Imputer\n",
    "from tsl.nn.models import GRINModel\n",
    "\n",
    "loss_fn = MaskedMAE()\n",
    "\n",
    "metrics = {'mae': MaskedMAE(),\n",
    "           'mape': MaskedMAPE(),\n",
    "           'mae_at_15': MaskedMAE(at=2),  # '2' indicates the third time step,\n",
    "                                          # which correspond to 15 minutes ahead\n",
    "           'mae_at_30': MaskedMAE(at=5),\n",
    "           'mae_at_60': MaskedMAE(at=11), }\n",
    "\n",
    "model_kwargs = {\n",
    "    'input_size': dm.n_channels,\n",
    "    'embedding_size':3,\n",
    "    'n_nodes':dm.n_nodes,\n",
    "    'hidden_size': 64,\n",
    "    'ff_size': 64,\n",
    "    'embedding_size': 8,\n",
    "    'n_layers': 1,\n",
    "    'kernel_size': 2,\n",
    "    'decoder_order': 1,\n",
    "    'layer_norm': False,\n",
    "    'dropout': 0,\n",
    "    'ff_dropout': 0,\n",
    "    'merge_mode': 'mlp',\n",
    "}\n",
    "\n",
    "# setup predictor\n",
    "predictor = Imputer(\n",
    "    model_class=GRINModel,\n",
    "    model_kwargs=model_kwargs,\n",
    "    optim_class=torch.optim.Adam,\n",
    "    optim_kwargs={'lr': 0.003},\n",
    "    loss_fn=loss_fn,\n",
    "    metrics=metrics\n",
    ")"
   ],
   "metadata": {
    "collapsed": false
   }
  },
  {
   "cell_type": "code",
   "execution_count": 14,
   "outputs": [],
   "source": [
    "from pytorch_lightning.loggers import TensorBoardLogger\n",
    "\n",
    "logger = TensorBoardLogger(save_dir=\"logs\", name=\"tsl_intro\", version=0)"
   ],
   "metadata": {
    "collapsed": false
   }
  },
  {
   "cell_type": "code",
   "execution_count": 15,
   "outputs": [],
   "source": [
    "import warnings\n",
    "warnings.filterwarnings(\"ignore\", \".*does not have many workers.*\")"
   ],
   "metadata": {
    "collapsed": false
   }
  }
 ],
 "metadata": {
  "kernelspec": {
   "display_name": "Python 3",
   "language": "python",
   "name": "python3"
  },
  "language_info": {
   "codemirror_mode": {
    "name": "ipython",
    "version": 2
   },
   "file_extension": ".py",
   "mimetype": "text/x-python",
   "name": "python",
   "nbconvert_exporter": "python",
   "pygments_lexer": "ipython2",
   "version": "2.7.6"
  }
 },
 "nbformat": 4,
 "nbformat_minor": 0
}
