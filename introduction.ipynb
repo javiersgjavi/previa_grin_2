{
 "cells": [
  {
   "cell_type": "code",
   "execution_count": 11,
   "metadata": {
    "collapsed": true
   },
   "outputs": [
    {
     "name": "stdout",
     "output_type": "stream",
     "text": [
      "tsl version  : 0.9.0\n",
      "torch version: 1.13.1+cu117\n"
     ]
    }
   ],
   "source": [
    "import tsl\n",
    "import torch\n",
    "import numpy as np\n",
    "\n",
    "np.set_printoptions(suppress=True)\n",
    "tsl.logger.disabled = True\n",
    "\n",
    "print(f\"tsl version  : {tsl.__version__}\")\n",
    "print(f\"torch version: {torch.__version__}\")"
   ]
  },
  {
   "cell_type": "code",
   "execution_count": 12,
   "outputs": [
    {
     "name": "stdout",
     "output_type": "stream",
     "text": [
      "MetrLA(length=34272, n_nodes=207, n_channels=1)\n"
     ]
    }
   ],
   "source": [
    "from tsl.datasets import MetrLA\n",
    "dataset = MetrLA()\n",
    "print(dataset)"
   ],
   "metadata": {
    "collapsed": false
   }
  },
  {
   "cell_type": "code",
   "execution_count": 13,
   "outputs": [
    {
     "name": "stdout",
     "output_type": "stream",
     "text": [
      "Sampling period: <5 * Minutes>\n",
      "Has missing values: True\n",
      "Percentage of missing values: 8.11%\n",
      "Has dataset exogenous variables: True\n",
      "Relevant attributes: dist\n"
     ]
    }
   ],
   "source": [
    "print(f\"Sampling period: {dataset.freq}\\n\"\n",
    "      f\"Has missing values: {dataset.has_mask}\\n\"\n",
    "      f\"Percentage of missing values: {(1 - dataset.mask.mean()) * 100:.2f}%\\n\"\n",
    "      f\"Has dataset exogenous variables: {dataset.has_covariates}\\n\"\n",
    "      f\"Relevant attributes: {', '.join(dataset.attributes.keys())}\")"
   ],
   "metadata": {
    "collapsed": false
   }
  },
  {
   "cell_type": "code",
   "execution_count": 14,
   "outputs": [
    {
     "name": "stdout",
     "output_type": "stream",
     "text": [
      "Percentage of missing values: 8.11%\n",
      "\n",
      "Percentage of missing values: 47.93%\n",
      "\n"
     ]
    }
   ],
   "source": [
    "from tsl.ops.imputation import add_missing_values\n",
    "p_fault, p_noise = 0.0015, 0.5\n",
    "dataset = add_missing_values(MetrLA(), p_fault=p_fault, p_noise=p_noise,\n",
    "                                  min_seq=12, max_seq=12 * 4, seed=9101112)\n",
    "print(f\"Percentage of missing values: {(1 - dataset.mask.mean()) * 100:.2f}%\\n\")\n",
    "print(f\"Percentage of missing values: {(dataset.eval_mask.mean()) * 100:.2f}%\\n\")"
   ],
   "metadata": {
    "collapsed": false
   }
  },
  {
   "cell_type": "code",
   "execution_count": 15,
   "outputs": [
    {
     "data": {
      "text/plain": "0.0015"
     },
     "execution_count": 15,
     "metadata": {},
     "output_type": "execute_result"
    }
   ],
   "source": [
    "dataset.p_fault"
   ],
   "metadata": {
    "collapsed": false
   }
  },
  {
   "cell_type": "code",
   "execution_count": 16,
   "outputs": [
    {
     "data": {
      "text/plain": "array([[    0. ,     inf,     inf, ...,     inf,  8114.8, 10009.7],\n       [    inf,     0. ,  2504.6, ...,     inf,     inf,     inf],\n       [    inf,  1489.3,     0. , ...,     inf,     inf,  9837. ],\n       ...,\n       [    inf,     inf,     inf, ...,     0. ,     inf,     inf],\n       [ 9599.8,     inf,     inf, ...,     inf,     0. ,     inf],\n       [10119.9,  9374.8,     inf, ...,     inf,  9018.7,     0. ]],\n      dtype=float32)"
     },
     "execution_count": 16,
     "metadata": {},
     "output_type": "execute_result"
    }
   ],
   "source": [
    "dataset.covariates['dist']"
   ],
   "metadata": {
    "collapsed": false
   }
  },
  {
   "cell_type": "code",
   "execution_count": 17,
   "outputs": [
    {
     "name": "stdout",
     "output_type": "stream",
     "text": [
      "[[    0.      inf     inf ...     inf  8114.8 10009.7]\n",
      " [    inf     0.   2504.6 ...     inf     inf     inf]\n",
      " [    inf  1489.3     0.  ...     inf     inf  9837. ]\n",
      " ...\n",
      " [    inf     inf     inf ...     0.      inf     inf]\n",
      " [ 9599.8     inf     inf ...     inf     0.      inf]\n",
      " [10119.9  9374.8     inf ...     inf  9018.7     0. ]]\n"
     ]
    }
   ],
   "source": [
    "print(dataset.dist)"
   ],
   "metadata": {
    "collapsed": false
   }
  },
  {
   "cell_type": "code",
   "execution_count": 18,
   "outputs": [
    {
     "data": {
      "text/plain": "0"
     },
     "execution_count": 18,
     "metadata": {},
     "output_type": "execute_result"
    }
   ],
   "source": [
    "dataset.dataframe().isna().sum().sum()"
   ],
   "metadata": {
    "collapsed": false
   }
  },
  {
   "cell_type": "code",
   "execution_count": 19,
   "outputs": [
    {
     "name": "stdout",
     "output_type": "stream",
     "text": [
      "(34272, 207)\n"
     ]
    },
    {
     "data": {
      "text/plain": "nodes                   773869     767541     767542     717447     717446  \\\nchannels                     0          0          0          0          0   \n2012-03-01 00:00:00  64.375000  67.625000  67.125000  61.500000  66.875000   \n2012-03-01 00:05:00  62.666668  68.555557  65.444443  62.444443  64.444443   \n2012-03-01 00:10:00  64.000000  63.750000  60.000000  59.000000  66.500000   \n2012-03-01 00:15:00  64.000000  63.750000  60.000000  59.000000  66.500000   \n2012-03-01 00:20:00  64.000000  63.750000  60.000000  59.000000  66.500000   \n2012-03-01 00:25:00  57.333332  69.000000  67.666664  61.666668  67.333336   \n2012-03-01 00:30:00  66.500000  63.875000  67.875000  62.375000  64.375000   \n2012-03-01 00:35:00  63.625000  67.250000  63.250000  60.500000  57.375000   \n2012-03-01 00:40:00  68.750000  65.250000  63.500000  63.000000  65.125000   \n2012-03-01 00:45:00  63.500000  61.500000  62.500000  58.125000  66.625000   \n\nnodes                   717445     773062     767620     737529     717816  \\\nchannels                     0          0          0          0          0   \n2012-03-01 00:00:00  68.750000  65.125000  67.125000  59.625000  62.750000   \n2012-03-01 00:05:00  68.111115  65.000000  65.000000  57.444443  63.333332   \n2012-03-01 00:10:00  66.250000  64.500000  64.250000  63.875000  65.375000   \n2012-03-01 00:15:00  66.250000  64.500000  64.250000  63.875000  65.375000   \n2012-03-01 00:20:00  66.250000  64.500000  64.250000  63.875000  65.375000   \n2012-03-01 00:25:00  69.000000  60.666668  67.333336  63.000000  63.333332   \n2012-03-01 00:30:00  67.750000  65.125000  64.875000  56.250000  63.000000   \n2012-03-01 00:35:00  65.500000  64.625000  65.500000  60.375000  66.625000   \n2012-03-01 00:40:00  68.000000  65.125000  63.750000  62.625000  66.750000   \n2012-03-01 00:45:00  64.250000  64.875000  66.500000  53.250000  60.750000   \n\nnodes                ...     772167  769372     774204     769806  717590  \\\nchannels             ...          0       0          0          0       0   \n2012-03-01 00:00:00  ...  45.625000  65.500  64.500000  66.428574  66.875   \n2012-03-01 00:05:00  ...  50.666668  69.875  66.666664  58.555557  62.000   \n2012-03-01 00:10:00  ...  44.125000  69.000  56.500000  59.250000  68.125   \n2012-03-01 00:15:00  ...  44.125000  69.000  56.500000  59.250000  68.125   \n2012-03-01 00:20:00  ...  44.125000  69.000  56.500000  59.250000  68.125   \n2012-03-01 00:25:00  ...  42.000000  70.000  68.333336  57.333332  66.000   \n2012-03-01 00:30:00  ...  41.250000  69.375  59.500000  44.625000  64.250   \n2012-03-01 00:35:00  ...  52.000000  65.875  59.750000  64.125000  66.125   \n2012-03-01 00:40:00  ...  52.500000  68.375  61.250000  64.375000  66.500   \n2012-03-01 00:45:00  ...  41.375000  69.250  62.625000  58.875000  61.125   \n\nnodes                   717592     717595     772168     718141     769373  \nchannels                     0          0          0          0          0  \n2012-03-01 00:00:00  59.375000  69.000000  59.250000  69.000000  61.875000  \n2012-03-01 00:05:00  61.111111  64.444443  55.888889  68.444443  62.875000  \n2012-03-01 00:10:00  62.500000  65.625000  61.375000  69.857140  62.000000  \n2012-03-01 00:15:00  62.500000  65.625000  61.375000  69.857140  62.000000  \n2012-03-01 00:20:00  62.500000  65.625000  61.375000  69.857140  62.000000  \n2012-03-01 00:25:00  54.666668  64.666664  57.666668  69.000000  57.333332  \n2012-03-01 00:30:00  62.625000  65.500000  51.000000  69.375000  61.250000  \n2012-03-01 00:35:00  62.375000  67.500000  52.000000  68.625000  59.375000  \n2012-03-01 00:40:00  66.250000  64.375000  48.625000  67.625000  61.750000  \n2012-03-01 00:45:00  64.250000  66.125000  50.750000  66.250000  62.250000  \n\n[10 rows x 207 columns]",
      "text/html": "<div>\n<style scoped>\n    .dataframe tbody tr th:only-of-type {\n        vertical-align: middle;\n    }\n\n    .dataframe tbody tr th {\n        vertical-align: top;\n    }\n\n    .dataframe thead tr th {\n        text-align: left;\n    }\n</style>\n<table border=\"1\" class=\"dataframe\">\n  <thead>\n    <tr>\n      <th>nodes</th>\n      <th>773869</th>\n      <th>767541</th>\n      <th>767542</th>\n      <th>717447</th>\n      <th>717446</th>\n      <th>717445</th>\n      <th>773062</th>\n      <th>767620</th>\n      <th>737529</th>\n      <th>717816</th>\n      <th>...</th>\n      <th>772167</th>\n      <th>769372</th>\n      <th>774204</th>\n      <th>769806</th>\n      <th>717590</th>\n      <th>717592</th>\n      <th>717595</th>\n      <th>772168</th>\n      <th>718141</th>\n      <th>769373</th>\n    </tr>\n    <tr>\n      <th>channels</th>\n      <th>0</th>\n      <th>0</th>\n      <th>0</th>\n      <th>0</th>\n      <th>0</th>\n      <th>0</th>\n      <th>0</th>\n      <th>0</th>\n      <th>0</th>\n      <th>0</th>\n      <th>...</th>\n      <th>0</th>\n      <th>0</th>\n      <th>0</th>\n      <th>0</th>\n      <th>0</th>\n      <th>0</th>\n      <th>0</th>\n      <th>0</th>\n      <th>0</th>\n      <th>0</th>\n    </tr>\n  </thead>\n  <tbody>\n    <tr>\n      <th>2012-03-01 00:00:00</th>\n      <td>64.375000</td>\n      <td>67.625000</td>\n      <td>67.125000</td>\n      <td>61.500000</td>\n      <td>66.875000</td>\n      <td>68.750000</td>\n      <td>65.125000</td>\n      <td>67.125000</td>\n      <td>59.625000</td>\n      <td>62.750000</td>\n      <td>...</td>\n      <td>45.625000</td>\n      <td>65.500</td>\n      <td>64.500000</td>\n      <td>66.428574</td>\n      <td>66.875</td>\n      <td>59.375000</td>\n      <td>69.000000</td>\n      <td>59.250000</td>\n      <td>69.000000</td>\n      <td>61.875000</td>\n    </tr>\n    <tr>\n      <th>2012-03-01 00:05:00</th>\n      <td>62.666668</td>\n      <td>68.555557</td>\n      <td>65.444443</td>\n      <td>62.444443</td>\n      <td>64.444443</td>\n      <td>68.111115</td>\n      <td>65.000000</td>\n      <td>65.000000</td>\n      <td>57.444443</td>\n      <td>63.333332</td>\n      <td>...</td>\n      <td>50.666668</td>\n      <td>69.875</td>\n      <td>66.666664</td>\n      <td>58.555557</td>\n      <td>62.000</td>\n      <td>61.111111</td>\n      <td>64.444443</td>\n      <td>55.888889</td>\n      <td>68.444443</td>\n      <td>62.875000</td>\n    </tr>\n    <tr>\n      <th>2012-03-01 00:10:00</th>\n      <td>64.000000</td>\n      <td>63.750000</td>\n      <td>60.000000</td>\n      <td>59.000000</td>\n      <td>66.500000</td>\n      <td>66.250000</td>\n      <td>64.500000</td>\n      <td>64.250000</td>\n      <td>63.875000</td>\n      <td>65.375000</td>\n      <td>...</td>\n      <td>44.125000</td>\n      <td>69.000</td>\n      <td>56.500000</td>\n      <td>59.250000</td>\n      <td>68.125</td>\n      <td>62.500000</td>\n      <td>65.625000</td>\n      <td>61.375000</td>\n      <td>69.857140</td>\n      <td>62.000000</td>\n    </tr>\n    <tr>\n      <th>2012-03-01 00:15:00</th>\n      <td>64.000000</td>\n      <td>63.750000</td>\n      <td>60.000000</td>\n      <td>59.000000</td>\n      <td>66.500000</td>\n      <td>66.250000</td>\n      <td>64.500000</td>\n      <td>64.250000</td>\n      <td>63.875000</td>\n      <td>65.375000</td>\n      <td>...</td>\n      <td>44.125000</td>\n      <td>69.000</td>\n      <td>56.500000</td>\n      <td>59.250000</td>\n      <td>68.125</td>\n      <td>62.500000</td>\n      <td>65.625000</td>\n      <td>61.375000</td>\n      <td>69.857140</td>\n      <td>62.000000</td>\n    </tr>\n    <tr>\n      <th>2012-03-01 00:20:00</th>\n      <td>64.000000</td>\n      <td>63.750000</td>\n      <td>60.000000</td>\n      <td>59.000000</td>\n      <td>66.500000</td>\n      <td>66.250000</td>\n      <td>64.500000</td>\n      <td>64.250000</td>\n      <td>63.875000</td>\n      <td>65.375000</td>\n      <td>...</td>\n      <td>44.125000</td>\n      <td>69.000</td>\n      <td>56.500000</td>\n      <td>59.250000</td>\n      <td>68.125</td>\n      <td>62.500000</td>\n      <td>65.625000</td>\n      <td>61.375000</td>\n      <td>69.857140</td>\n      <td>62.000000</td>\n    </tr>\n    <tr>\n      <th>2012-03-01 00:25:00</th>\n      <td>57.333332</td>\n      <td>69.000000</td>\n      <td>67.666664</td>\n      <td>61.666668</td>\n      <td>67.333336</td>\n      <td>69.000000</td>\n      <td>60.666668</td>\n      <td>67.333336</td>\n      <td>63.000000</td>\n      <td>63.333332</td>\n      <td>...</td>\n      <td>42.000000</td>\n      <td>70.000</td>\n      <td>68.333336</td>\n      <td>57.333332</td>\n      <td>66.000</td>\n      <td>54.666668</td>\n      <td>64.666664</td>\n      <td>57.666668</td>\n      <td>69.000000</td>\n      <td>57.333332</td>\n    </tr>\n    <tr>\n      <th>2012-03-01 00:30:00</th>\n      <td>66.500000</td>\n      <td>63.875000</td>\n      <td>67.875000</td>\n      <td>62.375000</td>\n      <td>64.375000</td>\n      <td>67.750000</td>\n      <td>65.125000</td>\n      <td>64.875000</td>\n      <td>56.250000</td>\n      <td>63.000000</td>\n      <td>...</td>\n      <td>41.250000</td>\n      <td>69.375</td>\n      <td>59.500000</td>\n      <td>44.625000</td>\n      <td>64.250</td>\n      <td>62.625000</td>\n      <td>65.500000</td>\n      <td>51.000000</td>\n      <td>69.375000</td>\n      <td>61.250000</td>\n    </tr>\n    <tr>\n      <th>2012-03-01 00:35:00</th>\n      <td>63.625000</td>\n      <td>67.250000</td>\n      <td>63.250000</td>\n      <td>60.500000</td>\n      <td>57.375000</td>\n      <td>65.500000</td>\n      <td>64.625000</td>\n      <td>65.500000</td>\n      <td>60.375000</td>\n      <td>66.625000</td>\n      <td>...</td>\n      <td>52.000000</td>\n      <td>65.875</td>\n      <td>59.750000</td>\n      <td>64.125000</td>\n      <td>66.125</td>\n      <td>62.375000</td>\n      <td>67.500000</td>\n      <td>52.000000</td>\n      <td>68.625000</td>\n      <td>59.375000</td>\n    </tr>\n    <tr>\n      <th>2012-03-01 00:40:00</th>\n      <td>68.750000</td>\n      <td>65.250000</td>\n      <td>63.500000</td>\n      <td>63.000000</td>\n      <td>65.125000</td>\n      <td>68.000000</td>\n      <td>65.125000</td>\n      <td>63.750000</td>\n      <td>62.625000</td>\n      <td>66.750000</td>\n      <td>...</td>\n      <td>52.500000</td>\n      <td>68.375</td>\n      <td>61.250000</td>\n      <td>64.375000</td>\n      <td>66.500</td>\n      <td>66.250000</td>\n      <td>64.375000</td>\n      <td>48.625000</td>\n      <td>67.625000</td>\n      <td>61.750000</td>\n    </tr>\n    <tr>\n      <th>2012-03-01 00:45:00</th>\n      <td>63.500000</td>\n      <td>61.500000</td>\n      <td>62.500000</td>\n      <td>58.125000</td>\n      <td>66.625000</td>\n      <td>64.250000</td>\n      <td>64.875000</td>\n      <td>66.500000</td>\n      <td>53.250000</td>\n      <td>60.750000</td>\n      <td>...</td>\n      <td>41.375000</td>\n      <td>69.250</td>\n      <td>62.625000</td>\n      <td>58.875000</td>\n      <td>61.125</td>\n      <td>64.250000</td>\n      <td>66.125000</td>\n      <td>50.750000</td>\n      <td>66.250000</td>\n      <td>62.250000</td>\n    </tr>\n  </tbody>\n</table>\n<p>10 rows × 207 columns</p>\n</div>"
     },
     "execution_count": 19,
     "metadata": {},
     "output_type": "execute_result"
    }
   ],
   "source": [
    "print(dataset.dataframe().shape)\n",
    "dataset.dataframe().head(10)"
   ],
   "metadata": {
    "collapsed": false
   }
  },
  {
   "cell_type": "code",
   "execution_count": 20,
   "outputs": [
    {
     "name": "stdout",
     "output_type": "stream",
     "text": [
      "Default similarity: distance\n",
      "Available similarity options: {'distance'}\n",
      "\n",
      "[[1.         0.         0.         0.         0.         0.\n",
      "  0.         0.         0.         0.        ]\n",
      " [0.         1.         0.3909554  0.00001704 0.00001667 0.00000114\n",
      "  0.00000105 0.3904571  0.         0.        ]\n",
      " [0.         0.7174379  1.         0.00069197 0.00068192 0.00000362\n",
      "  0.00000334 0.09160372 0.         0.        ]\n",
      " [0.         0.00097331 0.00000242 1.         0.63372165 0.00402982\n",
      "  0.01267532 0.0000023  0.         0.        ]\n",
      " [0.         0.00145201 0.000004   0.62646437 1.         0.05062024\n",
      "  0.1351968  0.00000398 0.         0.        ]\n",
      " [0.         0.00148304 0.00000412 0.8948124  0.36143154 1.\n",
      "  0.03901198 0.0000041  0.         0.        ]\n",
      " [0.         0.00000155 0.         0.01577749 0.00067244 0.05490443\n",
      "  1.         0.         0.         0.        ]\n",
      " [0.         0.00520506 0.05249563 0.         0.         0.\n",
      "  0.         1.         0.         0.        ]\n",
      " [0.         0.         0.         0.         0.         0.\n",
      "  0.         0.         1.         0.01276787]\n",
      " [0.         0.         0.         0.         0.         0.\n",
      "  0.         0.         0.         1.        ]]\n"
     ]
    }
   ],
   "source": [
    "print(f\"Default similarity: {dataset.similarity_score}\\n\"\n",
    "      f\"Available similarity options: {dataset.similarity_options}\\n\")\n",
    "\n",
    "sim = dataset.get_similarity(\"distance\")  # same as dataset.get_similarity()\n",
    "print(sim[:10, :10])  # just check first 10 nodes for readability"
   ],
   "metadata": {
    "collapsed": false
   }
  },
  {
   "cell_type": "code",
   "execution_count": 21,
   "outputs": [
    {
     "data": {
      "text/plain": "numpy.ndarray"
     },
     "execution_count": 21,
     "metadata": {},
     "output_type": "execute_result"
    }
   ],
   "source": [
    "type(sim)"
   ],
   "metadata": {
    "collapsed": false
   }
  },
  {
   "cell_type": "code",
   "execution_count": 22,
   "outputs": [
    {
     "name": "stdout",
     "output_type": "stream",
     "text": [
      "(array([[  0,   0,   0, ..., 206, 206, 206],\n",
      "       [ 13,  36,  58, ..., 157, 162, 198]]), array([0.07963489, 0.16290408, 0.0310139 , ..., 0.04530123, 0.03072186,\n",
      "       0.11480146], dtype=float32))\n"
     ]
    }
   ],
   "source": [
    "adj = dataset.get_connectivity(threshold=0.1,\n",
    "                               include_self=False,\n",
    "                               normalize_axis=1,\n",
    "                               layout=\"edge_index\")\n",
    "print(adj)"
   ],
   "metadata": {
    "collapsed": false
   }
  },
  {
   "cell_type": "code",
   "execution_count": 23,
   "outputs": [
    {
     "name": "stdout",
     "output_type": "stream",
     "text": [
      "(2, 1515)\n",
      "[0.07963489 0.16290408 0.0310139  ... 0.04530123 0.03072186 0.11480146]\n"
     ]
    }
   ],
   "source": [
    "edge_index, edge_weight = adj\n",
    "\n",
    "print(edge_index.shape)\n",
    "print(edge_weight)"
   ],
   "metadata": {
    "collapsed": false
   }
  },
  {
   "cell_type": "code",
   "execution_count": 24,
   "outputs": [
    {
     "name": "stdout",
     "output_type": "stream",
     "text": [
      "(207, 207)\n"
     ]
    }
   ],
   "source": [
    "from tsl.ops.connectivity import edge_index_to_adj\n",
    "\n",
    "dense = edge_index_to_adj(edge_index, edge_weight)\n",
    "print(dense.shape)"
   ],
   "metadata": {
    "collapsed": false
   }
  },
  {
   "cell_type": "code",
   "execution_count": 25,
   "outputs": [
    {
     "data": {
      "text/plain": "array([[[ True],\n        [ True],\n        [ True],\n        ...,\n        [ True],\n        [ True],\n        [ True]],\n\n       [[ True],\n        [ True],\n        [ True],\n        ...,\n        [ True],\n        [ True],\n        [ True]],\n\n       [[ True],\n        [ True],\n        [ True],\n        ...,\n        [ True],\n        [ True],\n        [ True]],\n\n       ...,\n\n       [[ True],\n        [ True],\n        [ True],\n        ...,\n        [ True],\n        [ True],\n        [ True]],\n\n       [[ True],\n        [ True],\n        [ True],\n        ...,\n        [ True],\n        [ True],\n        [ True]],\n\n       [[ True],\n        [ True],\n        [ True],\n        ...,\n        [ True],\n        [ True],\n        [ True]]])"
     },
     "execution_count": 25,
     "metadata": {},
     "output_type": "execute_result"
    }
   ],
   "source": [
    "dataset.mask"
   ],
   "metadata": {
    "collapsed": false
   }
  },
  {
   "cell_type": "code",
   "execution_count": 26,
   "outputs": [
    {
     "name": "stdout",
     "output_type": "stream",
     "text": [
      "ImputationDataset(n_samples=34261, n_nodes=207, n_channels=1)\n"
     ]
    }
   ],
   "source": [
    "from tsl.data import ImputationDataset\n",
    "\n",
    "target, idx = dataset.numpy(return_idx=True)\n",
    "\n",
    "torch_dataset = ImputationDataset(target=target,\n",
    "                                      index=idx,\n",
    "                                      connectivity=adj,\n",
    "                                      input_mask=dataset.mask,\n",
    "                                      eval_mask=dataset.mask,\n",
    "                                      window=12,\n",
    "                                      stride=1)\n",
    "print(torch_dataset)"
   ],
   "metadata": {
    "collapsed": false
   }
  },
  {
   "cell_type": "code",
   "execution_count": 27,
   "outputs": [
    {
     "name": "stdout",
     "output_type": "stream",
     "text": [
      "Data(\n",
      "  input=(x=[t=12, n=207, f=1], input_mask=[t=12, n=207, f=1], edge_index=[2, e=1515], edge_weight=[e=1515]),\n",
      "  target=(y=[t=12, n=207, f=1]),\n",
      "  has_mask=True\n",
      ")\n"
     ]
    }
   ],
   "source": [
    "sample = torch_dataset[0]\n",
    "print(sample)"
   ],
   "metadata": {
    "collapsed": false
   }
  },
  {
   "cell_type": "code",
   "execution_count": 28,
   "outputs": [
    {
     "data": {
      "text/plain": "{'x': 't n f',\n 'input_mask': 't n f',\n 'mask': 't n f',\n 'edge_index': '2 e',\n 'edge_weight': 'e',\n 'y': 't n f'}"
     },
     "execution_count": 28,
     "metadata": {},
     "output_type": "execute_result"
    }
   ],
   "source": [
    "torch_dataset[0].pattern"
   ],
   "metadata": {
    "collapsed": false
   }
  },
  {
   "cell_type": "code",
   "execution_count": 29,
   "outputs": [
    {
     "data": {
      "text/plain": "{'x': tensor([[[64.3750],\n          [67.6250],\n          [67.1250],\n          ...,\n          [59.2500],\n          [69.0000],\n          [61.8750]],\n \n         [[62.6667],\n          [68.5556],\n          [65.4444],\n          ...,\n          [55.8889],\n          [68.4444],\n          [62.8750]],\n \n         [[64.0000],\n          [63.7500],\n          [60.0000],\n          ...,\n          [61.3750],\n          [69.8571],\n          [62.0000]],\n \n         ...,\n \n         [[63.5000],\n          [61.5000],\n          [62.5000],\n          ...,\n          [50.7500],\n          [66.2500],\n          [62.2500]],\n \n         [[65.2222],\n          [63.6667],\n          [65.1111],\n          ...,\n          [60.5556],\n          [67.2222],\n          [60.0000]],\n \n         [[62.2500],\n          [67.7500],\n          [66.8750],\n          ...,\n          [57.0000],\n          [66.5000],\n          [59.4286]]]),\n 'input_mask': tensor([[[False],\n          [False],\n          [False],\n          ...,\n          [False],\n          [False],\n          [False]],\n \n         [[False],\n          [False],\n          [False],\n          ...,\n          [False],\n          [False],\n          [False]],\n \n         [[False],\n          [False],\n          [False],\n          ...,\n          [False],\n          [False],\n          [False]],\n \n         ...,\n \n         [[False],\n          [False],\n          [False],\n          ...,\n          [False],\n          [False],\n          [False]],\n \n         [[False],\n          [False],\n          [False],\n          ...,\n          [False],\n          [False],\n          [False]],\n \n         [[False],\n          [False],\n          [False],\n          ...,\n          [False],\n          [False],\n          [False]]]),\n 'edge_index': tensor([[  0,   0,   0,  ..., 206, 206, 206],\n         [ 13,  36,  58,  ..., 157, 162, 198]]),\n 'edge_weight': tensor([0.0796, 0.1629, 0.0310,  ..., 0.0453, 0.0307, 0.1148])}"
     },
     "execution_count": 29,
     "metadata": {},
     "output_type": "execute_result"
    }
   ],
   "source": [
    "sample.input.to_dict()"
   ],
   "metadata": {
    "collapsed": false
   }
  },
  {
   "cell_type": "code",
   "execution_count": 30,
   "outputs": [
    {
     "data": {
      "text/plain": "{'x': tensor([[[64.3750],\n          [67.6250],\n          [67.1250],\n          ...,\n          [59.2500],\n          [69.0000],\n          [61.8750]],\n \n         [[62.6667],\n          [68.5556],\n          [65.4444],\n          ...,\n          [55.8889],\n          [68.4444],\n          [62.8750]],\n \n         [[64.0000],\n          [63.7500],\n          [60.0000],\n          ...,\n          [61.3750],\n          [69.8571],\n          [62.0000]],\n \n         ...,\n \n         [[63.5000],\n          [61.5000],\n          [62.5000],\n          ...,\n          [50.7500],\n          [66.2500],\n          [62.2500]],\n \n         [[65.2222],\n          [63.6667],\n          [65.1111],\n          ...,\n          [60.5556],\n          [67.2222],\n          [60.0000]],\n \n         [[62.2500],\n          [67.7500],\n          [66.8750],\n          ...,\n          [57.0000],\n          [66.5000],\n          [59.4286]]]),\n 'input_mask': tensor([[[False],\n          [False],\n          [False],\n          ...,\n          [False],\n          [False],\n          [False]],\n \n         [[False],\n          [False],\n          [False],\n          ...,\n          [False],\n          [False],\n          [False]],\n \n         [[False],\n          [False],\n          [False],\n          ...,\n          [False],\n          [False],\n          [False]],\n \n         ...,\n \n         [[False],\n          [False],\n          [False],\n          ...,\n          [False],\n          [False],\n          [False]],\n \n         [[False],\n          [False],\n          [False],\n          ...,\n          [False],\n          [False],\n          [False]],\n \n         [[False],\n          [False],\n          [False],\n          ...,\n          [False],\n          [False],\n          [False]]]),\n 'edge_index': tensor([[  0,   0,   0,  ..., 206, 206, 206],\n         [ 13,  36,  58,  ..., 157, 162, 198]]),\n 'edge_weight': tensor([0.0796, 0.1629, 0.0310,  ..., 0.0453, 0.0307, 0.1148])}"
     },
     "execution_count": 30,
     "metadata": {},
     "output_type": "execute_result"
    }
   ],
   "source": [
    "sample.input.to_dict()"
   ],
   "metadata": {
    "collapsed": false
   }
  },
  {
   "cell_type": "code",
   "execution_count": 31,
   "outputs": [
    {
     "data": {
      "text/plain": "{'x': 't n f',\n 'input_mask': 't n f',\n 'mask': 't n f',\n 'edge_index': '2 e',\n 'edge_weight': 'e',\n 'y': 't n f'}"
     },
     "execution_count": 31,
     "metadata": {},
     "output_type": "execute_result"
    }
   ],
   "source": [
    "sample.pattern"
   ],
   "metadata": {
    "collapsed": false
   }
  },
  {
   "cell_type": "code",
   "execution_count": 32,
   "outputs": [
    {
     "name": "stdout",
     "output_type": "stream",
     "text": [
      "tensor([[[True],\n",
      "         [True],\n",
      "         [True],\n",
      "         ...,\n",
      "         [True],\n",
      "         [True],\n",
      "         [True]],\n",
      "\n",
      "        [[True],\n",
      "         [True],\n",
      "         [True],\n",
      "         ...,\n",
      "         [True],\n",
      "         [True],\n",
      "         [True]],\n",
      "\n",
      "        [[True],\n",
      "         [True],\n",
      "         [True],\n",
      "         ...,\n",
      "         [True],\n",
      "         [True],\n",
      "         [True]],\n",
      "\n",
      "        ...,\n",
      "\n",
      "        [[True],\n",
      "         [True],\n",
      "         [True],\n",
      "         ...,\n",
      "         [True],\n",
      "         [True],\n",
      "         [True]],\n",
      "\n",
      "        [[True],\n",
      "         [True],\n",
      "         [True],\n",
      "         ...,\n",
      "         [True],\n",
      "         [True],\n",
      "         [True]],\n",
      "\n",
      "        [[True],\n",
      "         [True],\n",
      "         [True],\n",
      "         ...,\n",
      "         [True],\n",
      "         [True],\n",
      "         [True]]])\n"
     ]
    }
   ],
   "source": [
    "if sample.has_mask:\n",
    "    print(sample.mask)\n",
    "else:\n",
    "    print(\"Sample has no mask.\")"
   ],
   "metadata": {
    "collapsed": false
   }
  },
  {
   "cell_type": "code",
   "execution_count": 33,
   "outputs": [
    {
     "name": "stdout",
     "output_type": "stream",
     "text": [
      "Sample has no transform functions.\n"
     ]
    }
   ],
   "source": [
    "\n",
    "if sample.has_transform:\n",
    "    print(sample.transform)\n",
    "else:\n",
    "    print(\"Sample has no transform functions.\")"
   ],
   "metadata": {
    "collapsed": false
   }
  },
  {
   "cell_type": "code",
   "execution_count": 34,
   "outputs": [
    {
     "name": "stdout",
     "output_type": "stream",
     "text": [
      "SpatioTemporalDataModule(train_len=None, val_len=None, test_len=None, scalers=[target], batch_size=64)\n"
     ]
    }
   ],
   "source": [
    "from tsl.data import SpatioTemporalDataModule\n",
    "from tsl.data.preprocessing import StandardScaler\n",
    "\n",
    "scalers = {'target': StandardScaler(axis=(0, 1))}\n",
    "\n",
    "splitter = dataset.get_splitter(val_len=0.1, test_len=0.2)\n",
    "\n",
    "dm = SpatioTemporalDataModule(\n",
    "    dataset=torch_dataset,\n",
    "    scalers=scalers,\n",
    "    splitter=splitter,\n",
    "    batch_size=64,\n",
    ")\n",
    "\n",
    "print(dm)"
   ],
   "metadata": {
    "collapsed": false
   }
  },
  {
   "cell_type": "code",
   "execution_count": 35,
   "outputs": [
    {
     "name": "stdout",
     "output_type": "stream",
     "text": [
      "SpatioTemporalDataModule(train_len=24657, val_len=2728, test_len=6852, scalers=[target], batch_size=64)\n"
     ]
    }
   ],
   "source": [
    "dm.setup()\n",
    "print(dm)"
   ],
   "metadata": {
    "collapsed": false
   }
  },
  {
   "cell_type": "code",
   "execution_count": 36,
   "outputs": [],
   "source": [
    "from tsl.metrics.torch import MaskedMAE, MaskedMAPE\n",
    "from tsl.engines import Imputer\n",
    "from tsl.nn.models import GRINModel\n",
    "\n",
    "loss_fn = MaskedMAE()\n",
    "\n",
    "metrics = {'mae': MaskedMAE(),\n",
    "           'mape': MaskedMAPE(),\n",
    "           'mae_at_15': MaskedMAE(at=2),  # '2' indicates the third time step,\n",
    "                                          # which correspond to 15 minutes ahead\n",
    "           'mae_at_30': MaskedMAE(at=5),\n",
    "           'mae_at_60': MaskedMAE(at=11), }\n",
    "\n",
    "model_kwargs = {\n",
    "    'input_size': dm.n_channels,  # 1 channel\n",
    "    #'horizon': dm.horizon,  # 12, the number of steps ahead to forecast\n",
    "    #'hidden_size': 16,\n",
    "    #'rnn_layers': 1,\n",
    "    #'gcn_layers': 2\n",
    "      'embedding_size':3,\n",
    "      'n_nodes':dm.n_nodes\n",
    "}\n",
    "\n",
    "# setup predictor\n",
    "predictor = Imputer(\n",
    "    model_class=GRINModel,\n",
    "    model_kwargs=model_kwargs,\n",
    "    optim_class=torch.optim.Adam,\n",
    "    optim_kwargs={'lr': 0.003},\n",
    "    loss_fn=loss_fn,\n",
    "    metrics=metrics\n",
    ")"
   ],
   "metadata": {
    "collapsed": false
   }
  },
  {
   "cell_type": "code",
   "execution_count": 37,
   "outputs": [
    {
     "data": {
      "text/plain": "1"
     },
     "execution_count": 37,
     "metadata": {},
     "output_type": "execute_result"
    }
   ],
   "source": [
    "dm.n_channels"
   ],
   "metadata": {
    "collapsed": false
   }
  },
  {
   "cell_type": "code",
   "execution_count": 38,
   "outputs": [],
   "source": [
    "from pytorch_lightning.loggers import TensorBoardLogger\n",
    "\n",
    "logger = TensorBoardLogger(save_dir=\"logs\", name=\"tsl_intro\", version=0)"
   ],
   "metadata": {
    "collapsed": false
   }
  },
  {
   "cell_type": "code",
   "execution_count": 39,
   "outputs": [
    {
     "data": {
      "text/plain": "Launching TensorBoard..."
     },
     "metadata": {},
     "output_type": "display_data"
    }
   ],
   "source": [
    "%load_ext tensorboard\n",
    "%tensorboard --logdir logs"
   ],
   "metadata": {
    "collapsed": false
   }
  },
  {
   "cell_type": "code",
   "execution_count": 40,
   "outputs": [],
   "source": [
    "CUDA_VISIBLE_DEVICES=1"
   ],
   "metadata": {
    "collapsed": false
   }
  },
  {
   "cell_type": "code",
   "execution_count": 41,
   "outputs": [
    {
     "data": {
      "text/plain": "False"
     },
     "execution_count": 41,
     "metadata": {},
     "output_type": "execute_result"
    }
   ],
   "source": [
    "torch.cuda.is_available()"
   ],
   "metadata": {
    "collapsed": false
   }
  },
  {
   "cell_type": "code",
   "execution_count": 42,
   "outputs": [
    {
     "name": "stderr",
     "output_type": "stream",
     "text": [
      "/home/javier/.local/lib/python3.10/site-packages/torch/cuda/__init__.py:497: UserWarning: Can't initialize NVML\n",
      "  warnings.warn(\"Can't initialize NVML\")\n"
     ]
    },
    {
     "data": {
      "text/plain": "0"
     },
     "execution_count": 42,
     "metadata": {},
     "output_type": "execute_result"
    }
   ],
   "source": [
    "torch.cuda.device_count()"
   ],
   "metadata": {
    "collapsed": false
   }
  },
  {
   "cell_type": "code",
   "execution_count": null,
   "outputs": [
    {
     "name": "stderr",
     "output_type": "stream",
     "text": [
      "GPU available: False, used: False\n",
      "/usr/lib/python3/dist-packages/pkg_resources/__init__.py:116: PkgResourcesDeprecationWarning: 0.1.43ubuntu1 is an invalid version and will not be supported in a future release\n",
      "  warnings.warn(\n",
      "/usr/lib/python3/dist-packages/pkg_resources/__init__.py:116: PkgResourcesDeprecationWarning: 1.1build1 is an invalid version and will not be supported in a future release\n",
      "  warnings.warn(\n",
      "TPU available: False, using: 0 TPU cores\n",
      "IPU available: False, using: 0 IPUs\n",
      "HPU available: False, using: 0 HPUs\n",
      "\n",
      "  | Name          | Type             | Params\n",
      "---------------------------------------------------\n",
      "0 | loss_fn       | MaskedMAE        | 0     \n",
      "1 | train_metrics | MetricCollection | 0     \n",
      "2 | val_metrics   | MetricCollection | 0     \n",
      "3 | test_metrics  | MetricCollection | 0     \n",
      "4 | model         | GRINModel        | 229 K \n",
      "---------------------------------------------------\n",
      "229 K     Trainable params\n",
      "0         Non-trainable params\n",
      "229 K     Total params\n",
      "0.919     Total estimated model params size (MB)\n"
     ]
    },
    {
     "data": {
      "text/plain": "Sanity Checking: 0it [00:00, ?it/s]",
      "application/vnd.jupyter.widget-view+json": {
       "version_major": 2,
       "version_minor": 0,
       "model_id": "964dad7372b64725ad5a31163cd027e8"
      }
     },
     "metadata": {},
     "output_type": "display_data"
    },
    {
     "name": "stderr",
     "output_type": "stream",
     "text": [
      "/home/javier/.local/lib/python3.10/site-packages/pytorch_lightning/trainer/connectors/data_connector.py:224: PossibleUserWarning: The dataloader, val_dataloader 0, does not have many workers which may be a bottleneck. Consider increasing the value of the `num_workers` argument` (try 16 which is the number of cpus on this machine) in the `DataLoader` init to improve performance.\n",
      "  rank_zero_warn(\n",
      "/home/javier/.local/lib/python3.10/site-packages/pytorch_lightning/trainer/connectors/data_connector.py:224: PossibleUserWarning: The dataloader, train_dataloader, does not have many workers which may be a bottleneck. Consider increasing the value of the `num_workers` argument` (try 16 which is the number of cpus on this machine) in the `DataLoader` init to improve performance.\n",
      "  rank_zero_warn(\n"
     ]
    },
    {
     "data": {
      "text/plain": "Training: 0it [00:00, ?it/s]",
      "application/vnd.jupyter.widget-view+json": {
       "version_major": 2,
       "version_minor": 0,
       "model_id": "e573a38b24c74e7f8d4bf9622057bfaf"
      }
     },
     "metadata": {},
     "output_type": "display_data"
    }
   ],
   "source": [
    "import pytorch_lightning as pl\n",
    "from pytorch_lightning.callbacks import ModelCheckpoint\n",
    "\n",
    "checkpoint_callback = ModelCheckpoint(\n",
    "    dirpath='logs',\n",
    "    save_top_k=1,\n",
    "    monitor='val_mae',\n",
    "    mode='min',\n",
    ")\n",
    "\n",
    "trainer = pl.Trainer(max_epochs=100,\n",
    "                     logger=logger,\n",
    "                     gpus=1 if torch.cuda.is_available() else None,\n",
    "                     #limit_train_batches=100,\n",
    "                     callbacks=[checkpoint_callback], )\n",
    "\n",
    "trainer.fit(predictor, datamodule=dm)"
   ],
   "metadata": {
    "collapsed": false,
    "pycharm": {
     "is_executing": true
    }
   }
  },
  {
   "cell_type": "code",
   "execution_count": null,
   "outputs": [],
   "source": [],
   "metadata": {
    "collapsed": false,
    "pycharm": {
     "is_executing": true
    }
   }
  }
 ],
 "metadata": {
  "kernelspec": {
   "display_name": "Python 3",
   "language": "python",
   "name": "python3"
  },
  "language_info": {
   "codemirror_mode": {
    "name": "ipython",
    "version": 2
   },
   "file_extension": ".py",
   "mimetype": "text/x-python",
   "name": "python",
   "nbconvert_exporter": "python",
   "pygments_lexer": "ipython2",
   "version": "2.7.6"
  }
 },
 "nbformat": 4,
 "nbformat_minor": 0
}
